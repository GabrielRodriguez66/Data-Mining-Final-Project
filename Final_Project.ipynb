{
 "cells": [
  {
   "cell_type": "markdown",
   "metadata": {},
   "source": [
    "# ESMA 4016: Final Project, Sentiment Analysis"
   ]
  },
  {
   "cell_type": "code",
   "execution_count": 2,
   "metadata": {},
   "outputs": [],
   "source": [
    "import pandas as pd\n",
    "import matplotlib.pyplot as plt"
   ]
  },
  {
   "cell_type": "code",
   "execution_count": 3,
   "metadata": {},
   "outputs": [],
   "source": [
    "def get_categories(df):\n",
    "    pos_df = df[df['Sentiment_Value'] == 'positive']\n",
    "    neg_df = df[df['Sentiment_Value'] == 'negative']\n",
    "    n_df = df[df['Sentiment_Value'] == 'neutral']\n",
    "    return (pos_df,neg_df,n_df)\n",
    "\n",
    "def display_samples(df, t):\n",
    "    print(t+\": \\n\")\n",
    "    for tweet in df.values[:5]:\n",
    "        print(\"\\t- \"+tweet[1]+\"\\n\")\n",
    "        \n",
    "def percentage(x,y):\n",
    "    return \"{:.2f}\".format(100 * len(x)/len(y))"
   ]
  },
  {
   "cell_type": "markdown",
   "metadata": {},
   "source": [
    "### *Reading tweets from csv*"
   ]
  },
  {
   "cell_type": "code",
   "execution_count": 4,
   "metadata": {},
   "outputs": [
    {
     "data": {
      "text/html": [
       "<div>\n",
       "<style scoped>\n",
       "    .dataframe tbody tr th:only-of-type {\n",
       "        vertical-align: middle;\n",
       "    }\n",
       "\n",
       "    .dataframe tbody tr th {\n",
       "        vertical-align: top;\n",
       "    }\n",
       "\n",
       "    .dataframe thead th {\n",
       "        text-align: right;\n",
       "    }\n",
       "</style>\n",
       "<table border=\"1\" class=\"dataframe\">\n",
       "  <thead>\n",
       "    <tr style=\"text-align: right;\">\n",
       "      <th></th>\n",
       "      <th>Username</th>\n",
       "      <th>Tweet</th>\n",
       "      <th>Sentiment_Value</th>\n",
       "    </tr>\n",
       "  </thead>\n",
       "  <tbody>\n",
       "    <tr>\n",
       "      <th>0</th>\n",
       "      <td>wilsonsnicks</td>\n",
       "      <td>Who let James Charles think he has any tangibl...</td>\n",
       "      <td>neutral</td>\n",
       "    </tr>\n",
       "    <tr>\n",
       "      <th>1</th>\n",
       "      <td>datyounghoey</td>\n",
       "      <td>I know that no one asked for my opinion but I ...</td>\n",
       "      <td>negative</td>\n",
       "    </tr>\n",
       "    <tr>\n",
       "      <th>2</th>\n",
       "      <td>CyThatNerd</td>\n",
       "      <td>Who's side are you on? James Charles or Tati W...</td>\n",
       "      <td>neutral</td>\n",
       "    </tr>\n",
       "    <tr>\n",
       "      <th>3</th>\n",
       "      <td>Mia49507320</td>\n",
       "      <td>@josepintoj @m0m3030 Good summary haha. In add...</td>\n",
       "      <td>positive</td>\n",
       "    </tr>\n",
       "    <tr>\n",
       "      <th>4</th>\n",
       "      <td>keleighhamptonn</td>\n",
       "      <td>@babyhayhayyy @IvyAlexuss @CaliKnight_ fr FUCK...</td>\n",
       "      <td>negative</td>\n",
       "    </tr>\n",
       "  </tbody>\n",
       "</table>\n",
       "</div>"
      ],
      "text/plain": [
       "          Username                                              Tweet  \\\n",
       "0     wilsonsnicks  Who let James Charles think he has any tangibl...   \n",
       "1     datyounghoey  I know that no one asked for my opinion but I ...   \n",
       "2       CyThatNerd  Who's side are you on? James Charles or Tati W...   \n",
       "3      Mia49507320  @josepintoj @m0m3030 Good summary haha. In add...   \n",
       "4  keleighhamptonn  @babyhayhayyy @IvyAlexuss @CaliKnight_ fr FUCK...   \n",
       "\n",
       "  Sentiment_Value  \n",
       "0         neutral  \n",
       "1        negative  \n",
       "2         neutral  \n",
       "3        positive  \n",
       "4        negative  "
      ]
     },
     "execution_count": 4,
     "metadata": {},
     "output_type": "execute_result"
    }
   ],
   "source": [
    "df = pd.read_csv(r\"C:\\\\Users\\Gabriel\\Desktop\\Data_Mining_Project\\results\\all_tweets.csv\", engine='python')\n",
    "df.head()"
   ]
  },
  {
   "cell_type": "markdown",
   "metadata": {},
   "source": [
    "### *Separating tweets by categories*"
   ]
  },
  {
   "cell_type": "code",
   "execution_count": 5,
   "metadata": {},
   "outputs": [],
   "source": [
    "pos_df, neg_df, n_df = get_categories(df)"
   ]
  },
  {
   "cell_type": "code",
   "execution_count": 6,
   "metadata": {},
   "outputs": [
    {
     "name": "stdout",
     "output_type": "stream",
     "text": [
      "Positive: \n",
      "\n",
      "\t- @josepintoj @m0m3030 Good summary haha. In addition, Tati was like a mother to James. She's supported him so much since all the way back when he was just getting started. In return, James Charles literally betrayed her for money.\n",
      "\n",
      "\t- Some of y’all forget that James Charles is still young. Like yes he’s treated as an adult because of his success but he’s still 19. I only just feel like I’m learning how to adult and growing up and I’m 24. It’s okay James. Mistakes happen. Just learn from it and grow ??\n",
      "\n",
      "\t- since queen tati just exposed james charles, just a reminder that pentagon did more for the beauty community in this one video than james charles ever will https://t.co/4GyLIHODkW\n",
      "\n",
      "\t- James Charles lost over 1 million subscribers in 24 hours ?????? and the more you refresh the page more people unsubscribing\n",
      "\n",
      "\t- @umyikez OkAy okay. What did James Charles do!!!!! Someone should please fill me in\n",
      "\n"
     ]
    }
   ],
   "source": [
    "display_samples(pos_df, \"Positive\")"
   ]
  },
  {
   "cell_type": "code",
   "execution_count": 7,
   "metadata": {},
   "outputs": [
    {
     "name": "stdout",
     "output_type": "stream",
     "text": [
      "Negative: \n",
      "\n",
      "\t- I know that no one asked for my opinion but I really started to see James Charles as problematic when he got mad at his fans for complaining about having 8 ads in a video. Like, you’re going to argue to the people that made you what you are? https://t.co/7guOajWlLO\n",
      "\n",
      "\t- @babyhayhayyy @IvyAlexuss @CaliKnight_ fr FUCK james charles!! tati basically MADE him and is the only reason he’s making the amount of $ he is now\n",
      "\n",
      "\t- Well since everyones talking about it, I honestly feel bad for James Charles. I’ve never really liked him and I find him disrespectful but after everything I don’t think he deserves all the backlash he’s getting. He made some pretty bad mistakes but I feel like we all have.\n",
      "\n",
      "\t- Can't be the only one listening to crab rave and watching james charles sub count go down can I?\n",
      "\n",
      "\t- y’all it’s kinda crazy how all these celebrities are under attack \n",
      "•Gigi Hadid \n",
      "•Kim and Kanye \n",
      "•Shawn Mendes\n",
      "•James Charles \n",
      "•Constance Wu \n",
      "LIKE PRESSED PRESSED\n",
      "\n"
     ]
    }
   ],
   "source": [
    "display_samples(neg_df, \"Negative\")"
   ]
  },
  {
   "cell_type": "code",
   "execution_count": 8,
   "metadata": {},
   "outputs": [
    {
     "name": "stdout",
     "output_type": "stream",
     "text": [
      "Neutral: \n",
      "\n",
      "\t- Who let James Charles think he has any tangible talent outside of makeup? The bitch thinks he can sing and thinks he can just manipulate people. Sis you have one thing going for you stay in that lane\n",
      "\n",
      "\t- Who's side are you on? James Charles or Tati Westbrook? \n",
      "\n",
      "#JamesCharles #Tati #TatiWestbrook #YouTube #Beauty\n",
      "\n",
      "\t- Next person I see on my timeline talmbout ProJared or James Charles is getting the chair ??\n",
      "\n",
      "\t- @lanooski Christ, James Charles is the gift for drama channels that just keeps on giving.\n",
      "\n",
      "\t- @hankgreen Is even Hank weighing in on James Charles?! ????\n",
      "\n"
     ]
    }
   ],
   "source": [
    "display_samples(n_df, \"Neutral\")"
   ]
  },
  {
   "cell_type": "markdown",
   "metadata": {},
   "source": [
    "### *Visualizing percentages of each category with Pie Chart*"
   ]
  },
  {
   "cell_type": "code",
   "execution_count": 9,
   "metadata": {},
   "outputs": [],
   "source": [
    "# Calculating percentages of each category\n",
    "pos_p = percentage(pos_df,df)\n",
    "neg_p = percentage(neg_df,df)\n",
    "n_p = percentage(n_df,df)"
   ]
  },
  {
   "cell_type": "code",
   "execution_count": 10,
   "metadata": {},
   "outputs": [
    {
     "data": {
      "image/png": "[encoded data removed]",
      "text/plain": [
       "<Figure size 432x288 with 1 Axes>"
      ]
     },
     "metadata": {},
     "output_type": "display_data"
    }
   ],
   "source": [
    "labels = ['Positive ['+ pos_p +' %]', 'Negative ['+ neg_p +' %]', 'Neutral ['+ n_p +' %]']\n",
    "sizes = [pos_p, neg_p, n_p]\n",
    "colors = ['red','yellow','green']\n",
    "patches, texts = plt.pie(sizes, colors=colors, startangle=90)\n",
    "plt.legend(patches, labels, loc='best')\n",
    "plt.title(\"Distribution of Sentiment Predictions in Tweets\")\n",
    "plt.axis('equal')\n",
    "plt.tight_layout()\n",
    "plt.show()"
   ]
  },
  {
   "cell_type": "markdown",
   "metadata": {},
   "source": [
    "### *Reading second tweets dataset from csv*"
   ]
  },
  {
   "cell_type": "code",
   "execution_count": 13,
   "metadata": {},
   "outputs": [
    {
     "data": {
      "text/html": [
       "<div>\n",
       "<style scoped>\n",
       "    .dataframe tbody tr th:only-of-type {\n",
       "        vertical-align: middle;\n",
       "    }\n",
       "\n",
       "    .dataframe tbody tr th {\n",
       "        vertical-align: top;\n",
       "    }\n",
       "\n",
       "    .dataframe thead th {\n",
       "        text-align: right;\n",
       "    }\n",
       "</style>\n",
       "<table border=\"1\" class=\"dataframe\">\n",
       "  <thead>\n",
       "    <tr style=\"text-align: right;\">\n",
       "      <th></th>\n",
       "      <th>ï»¿Username</th>\n",
       "      <th>Tweet</th>\n",
       "      <th>Sentiment_Value</th>\n",
       "    </tr>\n",
       "  </thead>\n",
       "  <tbody>\n",
       "    <tr>\n",
       "      <th>0</th>\n",
       "      <td>happyotter0012</td>\n",
       "      <td>James Charles trying to get through his Austra...</td>\n",
       "      <td>neutral</td>\n",
       "    </tr>\n",
       "    <tr>\n",
       "      <th>1</th>\n",
       "      <td>therebeccarants</td>\n",
       "      <td>@softyxoonseok @lukas_crowder @purpIeuniverse ...</td>\n",
       "      <td>neutral</td>\n",
       "    </tr>\n",
       "    <tr>\n",
       "      <th>2</th>\n",
       "      <td>conevivi13</td>\n",
       "      <td>\"YouTuber Tati Westbrook airs her issues with ...</td>\n",
       "      <td>neutral</td>\n",
       "    </tr>\n",
       "    <tr>\n",
       "      <th>3</th>\n",
       "      <td>papichula__</td>\n",
       "      <td>I?m living for this Tati &amp;amp; James Charles t...</td>\n",
       "      <td>neutral</td>\n",
       "    </tr>\n",
       "    <tr>\n",
       "      <th>4</th>\n",
       "      <td>xxbubbleblitzxx</td>\n",
       "      <td>I?ve never liked James Charles or liked to wat...</td>\n",
       "      <td>positive</td>\n",
       "    </tr>\n",
       "  </tbody>\n",
       "</table>\n",
       "</div>"
      ],
      "text/plain": [
       "       ï»¿Username                                              Tweet  \\\n",
       "0   happyotter0012  James Charles trying to get through his Austra...   \n",
       "1  therebeccarants  @softyxoonseok @lukas_crowder @purpIeuniverse ...   \n",
       "2       conevivi13  \"YouTuber Tati Westbrook airs her issues with ...   \n",
       "3      papichula__  I?m living for this Tati &amp; James Charles t...   \n",
       "4  xxbubbleblitzxx  I?ve never liked James Charles or liked to wat...   \n",
       "\n",
       "  Sentiment_Value  \n",
       "0         neutral  \n",
       "1         neutral  \n",
       "2         neutral  \n",
       "3         neutral  \n",
       "4        positive  "
      ]
     },
     "execution_count": 13,
     "metadata": {},
     "output_type": "execute_result"
    }
   ],
   "source": [
    "df2 = pd.read_csv(r\"C:\\\\Users\\Gabriel\\Desktop\\Data_Mining_Project\\results\\all_tweets2.csv\", engine='python')\n",
    "df2.head()"
   ]
  },
  {
   "cell_type": "markdown",
   "metadata": {},
   "source": [
    "### *Separating tweets by categories*"
   ]
  },
  {
   "cell_type": "code",
   "execution_count": 14,
   "metadata": {},
   "outputs": [],
   "source": [
    "pos_df, neg_df, n_df = get_categories(df2)"
   ]
  },
  {
   "cell_type": "code",
   "execution_count": 15,
   "metadata": {},
   "outputs": [
    {
     "name": "stdout",
     "output_type": "stream",
     "text": [
      "Positive: \n",
      "\n",
      "\t- I?ve never liked James Charles or liked to watch ANY videos associated with him, but let me tell you... Tati?s 43:09 video had me like https://t.co/QzHweFk2a9\n",
      "\n",
      "\t- @Lewtoons James Charles is a beauty influencer with 16mil followers. Tati Westbrook is a beauty influencer with 6mil followers but very respected in the beauty community. She was his BFF and mentor and he betrayed her for a brand deal. She exposed him in a YouTube video. Must watch\n",
      "\n",
      "\t- Not to be a bare minimum human being but the James Charles/Tati Westbrook drama is EXACTLY the summer scandal I needed to make me forget about all my crushing problems\n",
      "\n",
      "\t- omg James Charles is down to 15mil. tati is so powerful, we stan https://t.co/QOMvF1s03Y\n",
      "\n",
      "\t- @solaurennn This is a general TL;DR - the shortest I could find!\n",
      "\n",
      "https://t.co/BXOBJA35Mo\n",
      "\n"
     ]
    }
   ],
   "source": [
    "display_samples(pos_df, \"Positive\")"
   ]
  },
  {
   "cell_type": "code",
   "execution_count": 16,
   "metadata": {},
   "outputs": [
    {
     "name": "stdout",
     "output_type": "stream",
     "text": [
      "Negative: \n",
      "\n",
      "\t- everyone after watching Tati call out james charles for his shit https://t.co/lXncOD9FO3\n",
      "\n",
      "\t- James Charles apologising and shouting out to his mother in a vid meant for Tati is stupid. What, y'all can't txt that shit?? ??????\n",
      "\n",
      "\t- @flyingtaacos @KEEMSTAR @jamescharles beauty YouTuber tati exposes James Charles for being snakey and extremely egotistical. James releases a mediocre apology.\n",
      "\n",
      "\t- sat down got myself a cup of tea and i am WATCHIG tati?s 43 minute video exposing james charles bc we all need the tea in our lives,,, an exposing today!!!\n",
      "\n",
      "\t- This Tati &amp; James Charles mess is so relatable! Especially to those who always value their friendship but get nothing in return. It must be so painful to accept that you've being let down by the one that you thought would never hurt you &amp; stick with you until the end. #TeamTati\n",
      "\n"
     ]
    }
   ],
   "source": [
    "display_samples(neg_df, \"Negative\")"
   ]
  },
  {
   "cell_type": "code",
   "execution_count": 17,
   "metadata": {},
   "outputs": [
    {
     "name": "stdout",
     "output_type": "stream",
     "text": [
      "Neutral: \n",
      "\n",
      "\t- James Charles trying to get through his Australian meet and greet after Tati ended his career #byesisters #tati https://t.co/crfgFhwQJf\n",
      "\n",
      "\t- @softyxoonseok @lukas_crowder @purpIeuniverse James Charles is cancelled, Tati has taken the Iron Throne and Dracarysed his sub count. https://t.co/evZKiGgLMb\n",
      "\n",
      "\t- \"YouTuber Tati Westbrook airs her issues with James Charles\"  https://t.co/s85UqZnL8A\n",
      "\n",
      "\t- I?m living for this Tati &amp; James Charles tea ??\n",
      "\n",
      "\t- James Charles after tati ended his career https://t.co/TLzJSeRgMj\n",
      "\n"
     ]
    }
   ],
   "source": [
    "display_samples(n_df, \"Neutral\")"
   ]
  },
  {
   "cell_type": "markdown",
   "metadata": {},
   "source": [
    "### *Visualizing percentages of each category with Pie Chart*\n"
   ]
  },
  {
   "cell_type": "code",
   "execution_count": 18,
   "metadata": {},
   "outputs": [],
   "source": [
    "# Calculating percentages of each category\n",
    "pos_p = percentage(pos_df,df2)\n",
    "neg_p = percentage(neg_df,df2)\n",
    "n_p = percentage(n_df,df2)"
   ]
  },
  {
   "cell_type": "code",
   "execution_count": 19,
   "metadata": {},
   "outputs": [
    {
     "data": {
      "image/png": "[encoded data removed]",
      "text/plain": [
       "<Figure size 432x288 with 1 Axes>"
      ]
     },
     "metadata": {},
     "output_type": "display_data"
    }
   ],
   "source": [
    "labels = ['Positive ['+ pos_p +' %]', 'Negative ['+ neg_p +' %]', 'Neutral ['+ n_p +' %]']\n",
    "sizes = [pos_p, neg_p, n_p]\n",
    "colors = ['red','yellow','green']\n",
    "patches, texts = plt.pie(sizes, colors=colors, startangle=90)\n",
    "plt.legend(patches, labels, loc='best')\n",
    "plt.title(\"Distribution of Sentiment Predictions in Tweets\")\n",
    "plt.axis('equal')\n",
    "plt.tight_layout()"
   ]
  }
 ],
 "metadata": {
  "kernelspec": {
   "display_name": "Python 3",
   "language": "python",
   "name": "python3"
  },
  "language_info": {
   "codemirror_mode": {
    "name": "ipython",
    "version": 3
   },
   "file_extension": ".py",
   "mimetype": "text/x-python",
   "name": "python",
   "nbconvert_exporter": "python",
   "pygments_lexer": "ipython3",
   "version": "3.6.8"
  }
 },
 "nbformat": 4,
 "nbformat_minor": 2
}
